{
 "cells": [
  {
   "cell_type": "code",
   "execution_count": 3,
   "metadata": {},
   "outputs": [],
   "source": [
    "import sys\n",
    "import os\n",
    "sys.path.append('../') # root directory"
   ]
  },
  {
   "cell_type": "code",
   "execution_count": 15,
   "metadata": {},
   "outputs": [],
   "source": [
    "import read.JsonFileReader as json_reader\n",
    "from write.JsonFileWriter import write\n",
    "from constants import constant\n",
    "import pandas as pd\n",
    "import numpy as np\n",
    "import read.XlsReader as reader"
   ]
  },
  {
   "cell_type": "code",
   "execution_count": 13,
   "metadata": {},
   "outputs": [],
   "source": [
    "EMPTY = chr(8212)\n",
    "US_STOCKS = '../output/USIDX_2020-08-23114120744101.json'"
   ]
  },
  {
   "cell_type": "code",
   "execution_count": 19,
   "metadata": {},
   "outputs": [
    {
     "data": {
      "text/plain": [
       "['Revenue',\n",
       " 'Gross Margin %',\n",
       " 'Operating Income',\n",
       " 'Operating Margin %',\n",
       " 'Net Income',\n",
       " 'Earnings Per Share',\n",
       " 'Dividends',\n",
       " 'Payout Ratio % *',\n",
       " 'Shares',\n",
       " 'Book Value Per Share *']"
      ]
     },
     "execution_count": 19,
     "metadata": {},
     "output_type": "execute_result"
    }
   ],
   "source": [
    "all_stat_names = [stat['name'] for key in ('financeStats', 'keyStats') for stat in stocks[0][key]]\n",
    "all_stat_names[:10]"
   ]
  },
  {
   "cell_type": "code",
   "execution_count": 121,
   "metadata": {},
   "outputs": [],
   "source": []
  },
  {
   "cell_type": "code",
   "execution_count": 112,
   "metadata": {},
   "outputs": [],
   "source": [
    "# TODO deal with statNames order"
   ]
  },
  {
   "cell_type": "code",
   "execution_count": 113,
   "metadata": {},
   "outputs": [],
   "source": [
    "def getrow(stock, stat_names, periods='all', keys=('financeStats', 'keyStats')):\n",
    "    stats = [stat for key in keys for stat in stock[key] if stat['name'] in stat_names]\n",
    "    stat_values = [v['value'] for stat in stats for v in stat['values'] if periods == 'all' or v['period'] in periods]\n",
    "    return [stock['symbol']] + stat_values"
   ]
  },
  {
   "cell_type": "code",
   "execution_count": 172,
   "metadata": {},
   "outputs": [],
   "source": [
    "def extract_stat(stocks, stat_names, periods='all', keys=('financeStats', 'keyStats')):\n",
    "    stats = [getrow(stock, stat_names, periods, keys) for stock in stocks]\n",
    "    colheaders = pd.MultiIndex.from_product([stat_names, periods]).insert(0, 'Symbol')\n",
    "    stats_df = pd.DataFrame(stats, columns=colheaders)\n",
    "    stats_df = stats_df.replace(EMPTY, np.NaN)\n",
    "    stats_df.loc[:, stat_names] = stats_df.loc[:, stat_names].astype('float32')\n",
    "    return stats_df"
   ]
  },
  {
   "cell_type": "code",
   "execution_count": 173,
   "metadata": {},
   "outputs": [],
   "source": [
    "stat_names = ['Earnings Per Share']\n",
    "keys = ('financeStats',)\n",
    "periods = ['2015-12', '2016-12', '2017-12', '2018-12', '2019-12', 'TTM']"
   ]
  },
  {
   "cell_type": "code",
   "execution_count": 174,
   "metadata": {},
   "outputs": [
    {
     "name": "stderr",
     "output_type": "stream",
     "text": [
      "/Users/vidurpuliani/opt/anaconda3/lib/python3.7/site-packages/IPython/core/interactiveshell.py:3063: PerformanceWarning: indexing past lexsort depth may impact performance.\n",
      "  interactivity=interactivity, compiler=compiler, result=result)\n"
     ]
    }
   ],
   "source": [
    "stats_df = extract_stat(stocks, stat_names, periods, keys=keys)"
   ]
  },
  {
   "cell_type": "code",
   "execution_count": 216,
   "metadata": {},
   "outputs": [
    {
     "name": "stderr",
     "output_type": "stream",
     "text": [
      "/Users/vidurpuliani/opt/anaconda3/lib/python3.7/site-packages/pandas/core/reshape/merge.py:618: UserWarning: merging between different levels can give an unintended result (1 levels on the left, 2 on the right)\n",
      "  warnings.warn(msg, UserWarning)\n",
      "/Users/vidurpuliani/opt/anaconda3/lib/python3.7/site-packages/pandas/core/generic.py:3936: PerformanceWarning: dropping on a non-lexsorted multi-index without a level parameter may impact performance.\n",
      "  obj = obj._drop_axis(labels, axis, level=level, errors=errors)\n"
     ]
    },
    {
     "data": {
      "text/plain": [
       "0     21640.300000\n",
       "1      3092.260567\n",
       "2      1699.403268\n",
       "3      3312.000000\n",
       "4      3452.248674\n",
       "          ...     \n",
       "69             NaN\n",
       "70       -1.266800\n",
       "71             NaN\n",
       "72             NaN\n",
       "73             NaN\n",
       "Length: 74, dtype: float64"
      ]
     },
     "execution_count": 216,
     "metadata": {},
     "output_type": "execute_result"
    }
   ],
   "source": [
    "eido = pd.merge(eido_df, stats_df, on='Symbol', how='left')\n",
    "eido['Weight'] * eido[('Earnings Per Share', 'TTM')]"
   ]
  },
  {
   "cell_type": "code",
   "execution_count": 215,
   "metadata": {},
   "outputs": [
    {
     "data": {
      "text/html": [
       "<div>\n",
       "<style scoped>\n",
       "    .dataframe tbody tr th:only-of-type {\n",
       "        vertical-align: middle;\n",
       "    }\n",
       "\n",
       "    .dataframe tbody tr th {\n",
       "        vertical-align: top;\n",
       "    }\n",
       "\n",
       "    .dataframe thead th {\n",
       "        text-align: right;\n",
       "    }\n",
       "</style>\n",
       "<table border=\"1\" class=\"dataframe\">\n",
       "  <thead>\n",
       "    <tr style=\"text-align: right;\">\n",
       "      <th></th>\n",
       "      <th>Symbol</th>\n",
       "      <th>Name</th>\n",
       "      <th>Sector</th>\n",
       "      <th>Asset</th>\n",
       "      <th>MarketCap</th>\n",
       "      <th>Weight</th>\n",
       "      <th>(Earnings Per Share, 2015-12)</th>\n",
       "      <th>(Earnings Per Share, 2016-12)</th>\n",
       "      <th>(Earnings Per Share, 2017-12)</th>\n",
       "      <th>(Earnings Per Share, 2018-12)</th>\n",
       "      <th>(Earnings Per Share, 2019-12)</th>\n",
       "      <th>(Earnings Per Share, TTM)</th>\n",
       "    </tr>\n",
       "  </thead>\n",
       "  <tbody>\n",
       "    <tr>\n",
       "      <th>0</th>\n",
       "      <td>BBCA</td>\n",
       "      <td>BANK CENTRAL ASIA</td>\n",
       "      <td>Financials</td>\n",
       "      <td>Equity</td>\n",
       "      <td>59,178,550.05</td>\n",
       "      <td>19.10</td>\n",
       "      <td>731.000000</td>\n",
       "      <td>836.000000</td>\n",
       "      <td>945.000000</td>\n",
       "      <td>1049.000000</td>\n",
       "      <td>1159.000000</td>\n",
       "      <td>1133.000000</td>\n",
       "    </tr>\n",
       "    <tr>\n",
       "      <th>1</th>\n",
       "      <td>BBRI</td>\n",
       "      <td>BANK RAKYAT INDONESIA (PERSERO)</td>\n",
       "      <td>Financials</td>\n",
       "      <td>Equity</td>\n",
       "      <td>34,187,697.99</td>\n",
       "      <td>11.03</td>\n",
       "      <td>206.089996</td>\n",
       "      <td>214.070007</td>\n",
       "      <td>236.929993</td>\n",
       "      <td>264.369995</td>\n",
       "      <td>280.959991</td>\n",
       "      <td>280.350006</td>\n",
       "    </tr>\n",
       "    <tr>\n",
       "      <th>2</th>\n",
       "      <td>TLKM</td>\n",
       "      <td>TELEKOMUNIKASI INDONESIA</td>\n",
       "      <td>Communication</td>\n",
       "      <td>Equity</td>\n",
       "      <td>27,488,397.69</td>\n",
       "      <td>8.87</td>\n",
       "      <td>157.380005</td>\n",
       "      <td>195.990005</td>\n",
       "      <td>223.300003</td>\n",
       "      <td>179.710007</td>\n",
       "      <td>192.490005</td>\n",
       "      <td>191.589996</td>\n",
       "    </tr>\n",
       "    <tr>\n",
       "      <th>3</th>\n",
       "      <td>ASII</td>\n",
       "      <td>ASTRA INTERNATIONAL</td>\n",
       "      <td>Consumer Discretionary</td>\n",
       "      <td>Equity</td>\n",
       "      <td>17,851,588.63</td>\n",
       "      <td>5.76</td>\n",
       "      <td>357.000000</td>\n",
       "      <td>374.000000</td>\n",
       "      <td>466.000000</td>\n",
       "      <td>535.000000</td>\n",
       "      <td>536.000000</td>\n",
       "      <td>575.000000</td>\n",
       "    </tr>\n",
       "    <tr>\n",
       "      <th>4</th>\n",
       "      <td>BMRI</td>\n",
       "      <td>BANK MANDIRI (PERSERO)</td>\n",
       "      <td>Financials</td>\n",
       "      <td>Equity</td>\n",
       "      <td>17,712,663.82</td>\n",
       "      <td>5.72</td>\n",
       "      <td>435.750000</td>\n",
       "      <td>295.850006</td>\n",
       "      <td>442.279999</td>\n",
       "      <td>536.039978</td>\n",
       "      <td>588.900024</td>\n",
       "      <td>603.539978</td>\n",
       "    </tr>\n",
       "    <tr>\n",
       "      <th>...</th>\n",
       "      <td>...</td>\n",
       "      <td>...</td>\n",
       "      <td>...</td>\n",
       "      <td>...</td>\n",
       "      <td>...</td>\n",
       "      <td>...</td>\n",
       "      <td>...</td>\n",
       "      <td>...</td>\n",
       "      <td>...</td>\n",
       "      <td>...</td>\n",
       "      <td>...</td>\n",
       "      <td>...</td>\n",
       "    </tr>\n",
       "    <tr>\n",
       "      <th>69</th>\n",
       "      <td>BLTA</td>\n",
       "      <td>PT BERLIAN LAJU TANKER TBK</td>\n",
       "      <td>Industrials</td>\n",
       "      <td>Equity</td>\n",
       "      <td>70,841.33</td>\n",
       "      <td>0.02</td>\n",
       "      <td>0.010000</td>\n",
       "      <td>NaN</td>\n",
       "      <td>NaN</td>\n",
       "      <td>NaN</td>\n",
       "      <td>NaN</td>\n",
       "      <td>NaN</td>\n",
       "    </tr>\n",
       "    <tr>\n",
       "      <th>70</th>\n",
       "      <td>POOL</td>\n",
       "      <td>POOL ADVISTA INDONESIA</td>\n",
       "      <td>Financials</td>\n",
       "      <td>Equity</td>\n",
       "      <td>22,910.27</td>\n",
       "      <td>0.01</td>\n",
       "      <td>11.550000</td>\n",
       "      <td>19.600000</td>\n",
       "      <td>103.440002</td>\n",
       "      <td>-27.770000</td>\n",
       "      <td>-180.130005</td>\n",
       "      <td>-126.680000</td>\n",
       "    </tr>\n",
       "    <tr>\n",
       "      <th>71</th>\n",
       "      <td>SIAP</td>\n",
       "      <td>SEKAWAN INTIPRATAMA</td>\n",
       "      <td>Materials</td>\n",
       "      <td>Equity</td>\n",
       "      <td>20.69</td>\n",
       "      <td>0.00</td>\n",
       "      <td>-1.070000</td>\n",
       "      <td>-0.920000</td>\n",
       "      <td>-0.450000</td>\n",
       "      <td>-0.480000</td>\n",
       "      <td>-0.480000</td>\n",
       "      <td>NaN</td>\n",
       "    </tr>\n",
       "    <tr>\n",
       "      <th>72</th>\n",
       "      <td>SUGI</td>\n",
       "      <td>SUGIH ENERGY</td>\n",
       "      <td>Energy</td>\n",
       "      <td>Equity</td>\n",
       "      <td>27</td>\n",
       "      <td>0.00</td>\n",
       "      <td>NaN</td>\n",
       "      <td>NaN</td>\n",
       "      <td>NaN</td>\n",
       "      <td>NaN</td>\n",
       "      <td>NaN</td>\n",
       "      <td>NaN</td>\n",
       "    </tr>\n",
       "    <tr>\n",
       "      <th>73</th>\n",
       "      <td>INVS</td>\n",
       "      <td>INOVISI INFRACOM</td>\n",
       "      <td>Industrials</td>\n",
       "      <td>Equity</td>\n",
       "      <td>0.01</td>\n",
       "      <td>0.00</td>\n",
       "      <td>-0.790000</td>\n",
       "      <td>-0.630000</td>\n",
       "      <td>NaN</td>\n",
       "      <td>NaN</td>\n",
       "      <td>NaN</td>\n",
       "      <td>NaN</td>\n",
       "    </tr>\n",
       "  </tbody>\n",
       "</table>\n",
       "<p>74 rows × 12 columns</p>\n",
       "</div>"
      ],
      "text/plain": [
       "   Symbol                             Name                  Sector   Asset  \\\n",
       "0    BBCA                BANK CENTRAL ASIA              Financials  Equity   \n",
       "1    BBRI  BANK RAKYAT INDONESIA (PERSERO)              Financials  Equity   \n",
       "2    TLKM         TELEKOMUNIKASI INDONESIA           Communication  Equity   \n",
       "3    ASII              ASTRA INTERNATIONAL  Consumer Discretionary  Equity   \n",
       "4    BMRI           BANK MANDIRI (PERSERO)              Financials  Equity   \n",
       "..    ...                              ...                     ...     ...   \n",
       "69   BLTA       PT BERLIAN LAJU TANKER TBK             Industrials  Equity   \n",
       "70   POOL           POOL ADVISTA INDONESIA              Financials  Equity   \n",
       "71   SIAP              SEKAWAN INTIPRATAMA               Materials  Equity   \n",
       "72   SUGI                     SUGIH ENERGY                  Energy  Equity   \n",
       "73   INVS                 INOVISI INFRACOM             Industrials  Equity   \n",
       "\n",
       "        MarketCap  Weight  (Earnings Per Share, 2015-12)  \\\n",
       "0   59,178,550.05   19.10                     731.000000   \n",
       "1   34,187,697.99   11.03                     206.089996   \n",
       "2   27,488,397.69    8.87                     157.380005   \n",
       "3   17,851,588.63    5.76                     357.000000   \n",
       "4   17,712,663.82    5.72                     435.750000   \n",
       "..            ...     ...                            ...   \n",
       "69      70,841.33    0.02                       0.010000   \n",
       "70      22,910.27    0.01                      11.550000   \n",
       "71          20.69    0.00                      -1.070000   \n",
       "72             27    0.00                            NaN   \n",
       "73           0.01    0.00                      -0.790000   \n",
       "\n",
       "    (Earnings Per Share, 2016-12)  (Earnings Per Share, 2017-12)  \\\n",
       "0                      836.000000                     945.000000   \n",
       "1                      214.070007                     236.929993   \n",
       "2                      195.990005                     223.300003   \n",
       "3                      374.000000                     466.000000   \n",
       "4                      295.850006                     442.279999   \n",
       "..                            ...                            ...   \n",
       "69                            NaN                            NaN   \n",
       "70                      19.600000                     103.440002   \n",
       "71                      -0.920000                      -0.450000   \n",
       "72                            NaN                            NaN   \n",
       "73                      -0.630000                            NaN   \n",
       "\n",
       "    (Earnings Per Share, 2018-12)  (Earnings Per Share, 2019-12)  \\\n",
       "0                     1049.000000                    1159.000000   \n",
       "1                      264.369995                     280.959991   \n",
       "2                      179.710007                     192.490005   \n",
       "3                      535.000000                     536.000000   \n",
       "4                      536.039978                     588.900024   \n",
       "..                            ...                            ...   \n",
       "69                            NaN                            NaN   \n",
       "70                     -27.770000                    -180.130005   \n",
       "71                      -0.480000                      -0.480000   \n",
       "72                            NaN                            NaN   \n",
       "73                            NaN                            NaN   \n",
       "\n",
       "    (Earnings Per Share, TTM)  \n",
       "0                 1133.000000  \n",
       "1                  280.350006  \n",
       "2                  191.589996  \n",
       "3                  575.000000  \n",
       "4                  603.539978  \n",
       "..                        ...  \n",
       "69                        NaN  \n",
       "70                -126.680000  \n",
       "71                        NaN  \n",
       "72                        NaN  \n",
       "73                        NaN  \n",
       "\n",
       "[74 rows x 12 columns]"
      ]
     },
     "execution_count": 215,
     "metadata": {},
     "output_type": "execute_result"
    }
   ],
   "source": [
    "eido"
   ]
  },
  {
   "cell_type": "code",
   "execution_count": null,
   "metadata": {},
   "outputs": [],
   "source": []
  },
  {
   "cell_type": "code",
   "execution_count": null,
   "metadata": {},
   "outputs": [],
   "source": []
  },
  {
   "cell_type": "code",
   "execution_count": 45,
   "metadata": {},
   "outputs": [
    {
     "data": {
      "text/plain": [
       "'http://financials.morningstar.com/ajax/ReportProcess4HtmlAjax.html?&t=XIDX:BBCA&region=idn&culture=en-US&version=SAL&cur=&reportType=is&period=12&dataType=R&order=asc&columnYear=10&curYearPart=1st5year&rounding=3&view=decimal&r=401953&callback=jsonp1597682400046&_=1597682400090'"
      ]
     },
     "execution_count": 45,
     "metadata": {},
     "output_type": "execute_result"
    }
   ],
   "source": [
    "'http://financials.morningstar.com/ajax/ReportProcess4HtmlAjax.html?&t=XIDX:BBCA&region=idn&culture=en-US&version=SAL&cur=&reportType=is&period=12&dataType=R&order=asc&columnYear=10&curYearPart=1st5year&rounding=3&view=decimal&r=401953&callback=jsonp1597682400046&_=1597682400090'"
   ]
  },
  {
   "cell_type": "code",
   "execution_count": 46,
   "metadata": {},
   "outputs": [
    {
     "data": {
      "text/plain": [
       "'http://financials.morningstar.com/ajax/ReportProcess4HtmlAjax.html?&t=XNSE:PCJEWELLER&region=ind&culture=en-US&version=SAL&cur=&reportType=is&period=12&dataType=R&order=asc&columnYear=10&curYearPart=1st5year&rounding=3&view=decimal&r=515122&callback=jsonp1597682464958&_=1597682465025'"
      ]
     },
     "execution_count": 46,
     "metadata": {},
     "output_type": "execute_result"
    }
   ],
   "source": [
    "'http://financials.morningstar.com/ajax/ReportProcess4HtmlAjax.html?&t=XNSE:PCJEWELLER&region=ind&culture=en-US&version=SAL&cur=&reportType=is&period=12&dataType=R&order=asc&columnYear=10&curYearPart=1st5year&rounding=3&view=decimal&r=515122&callback=jsonp1597682464958&_=1597682465025'"
   ]
  },
  {
   "cell_type": "code",
   "execution_count": 47,
   "metadata": {},
   "outputs": [
    {
     "data": {
      "text/plain": [
       "'http://financials.morningstar.com/ajax/ReportProcess4HtmlAjax.html?&t=XNSE:PCJEWELLER&region=ind&culture=en-US&version=SAL&cur=&reportType=bs&period=12&dataType=R&order=asc&columnYear=10&curYearPart=1st5year&rounding=3&view=decimal&r=617433&callback=jsonp1597682521236&_=1597682521326'"
      ]
     },
     "execution_count": 47,
     "metadata": {},
     "output_type": "execute_result"
    }
   ],
   "source": [
    "'http://financials.morningstar.com/ajax/ReportProcess4HtmlAjax.html?&t=XNSE:PCJEWELLER&region=ind&culture=en-US&version=SAL&cur=&reportType=bs&period=12&dataType=R&order=asc&columnYear=10&curYearPart=1st5year&rounding=3&view=decimal&r=617433&callback=jsonp1597682521236&_=1597682521326'"
   ]
  },
  {
   "cell_type": "markdown",
   "metadata": {},
   "source": [
    "ADR: false\n",
    "columnYear: \"10\" or \"5\"\n",
    "culture: \"en-US\"\n",
    "dataType: \"A\"(As Reported), \"R\"(Restated)\n",
    "order: \"asc\" or \"desc\"\n",
    "period: \"12\" or \"3\"\n",
    "reportType: \"bs\" or \"is\" or \"cf\"\n",
    "rounding: \"4\", 1(original), 2(thousands), 3(millions), 4(billions)\n",
    "userType: \"S\"\n",
    "view: \"raw\" or \"percentage\" or \"decimal\""
   ]
  }
 ],
 "metadata": {
  "kernelspec": {
   "display_name": "Python 3",
   "language": "python",
   "name": "python3"
  },
  "language_info": {
   "codemirror_mode": {
    "name": "ipython",
    "version": 3
   },
   "file_extension": ".py",
   "mimetype": "text/x-python",
   "name": "python",
   "nbconvert_exporter": "python",
   "pygments_lexer": "ipython3",
   "version": "3.7.7"
  }
 },
 "nbformat": 4,
 "nbformat_minor": 4
}
